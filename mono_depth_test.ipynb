{
 "cells": [
  {
   "cell_type": "code",
   "execution_count": 1,
   "metadata": {},
   "outputs": [
    {
     "name": "stderr",
     "output_type": "stream",
     "text": [
      "Using cache found in /home/nitesh/.cache/torch/hub/intel-isl_MiDaS_master\n",
      "Using cache found in /home/nitesh/.cache/torch/hub/intel-isl_MiDaS_master\n"
     ]
    },
    {
     "data": {
      "text/plain": [
       "True"
      ]
     },
     "execution_count": 1,
     "metadata": {},
     "output_type": "execute_result"
    }
   ],
   "source": [
    "import cv2\n",
    "import torch\n",
    "\n",
    "# Load MiDaS model for depth estimation\n",
    "model_type = \"DPT_Large\"\n",
    "midas = torch.hub.load(\"intel-isl/MiDaS\", model_type)\n",
    "\n",
    "# Move model to GPU if available\n",
    "device = torch.device(\"cuda\") if torch.cuda.is_available() else torch.device(\"cpu\")\n",
    "midas.to(device)\n",
    "midas.eval()\n",
    "\n",
    "# Set up image transformation pipeline\n",
    "midas_transforms = torch.hub.load(\"intel-isl/MiDaS\", \"transforms\")\n",
    "transform = midas_transforms.dpt_transform\n",
    "\n",
    "# Load and preprocess the image\n",
    "img = cv2.imread(\"/home/nitesh/.local/share/ov/pkg/isaac-sim-4.0.0/maniRL/images/image.jpg\")\n",
    "img = cv2.cvtColor(img, cv2.COLOR_BGR2RGB)\n",
    "input_batch = transform(img).to(device)\n",
    "\n",
    "# Estimate depth\n",
    "with torch.no_grad():\n",
    "    prediction = midas(input_batch)\n",
    "    prediction = torch.nn.functional.interpolate(\n",
    "        prediction.unsqueeze(1),\n",
    "        size=img.shape[:2],\n",
    "        mode=\"bicubic\",\n",
    "        align_corners=False,\n",
    "    ).squeeze()\n",
    "    depth = prediction.cpu().numpy()\n",
    "\n",
    "# Normalize depth map\n",
    "depth_min = depth.min()\n",
    "depth_max = depth.max()\n",
    "depth_normalized = (depth - depth_min) / (depth_max - depth_min)\n",
    "\n",
    "# Create a mask for nearest objects (adjust threshold as needed)\n",
    "threshold = 0.5  # Higher values remove more distant objects\n",
    "mask = depth_normalized > threshold\n",
    "\n",
    "# revert the mask\n",
    "mask = ~mask\n",
    "\n",
    "# Apply mask to remove nearest objects\n",
    "result = img.copy()\n",
    "result[mask] = [0, 0, 0]  # Set to white (or any other color)\n",
    "\n",
    "# Count the number of pixels remaining\n",
    "num_pixels = mask.sum()\n",
    "\n",
    "# Save the result\n",
    "cv2.imwrite(\"/home/nitesh/.local/share/ov/pkg/isaac-sim-4.0.0/maniRL/images/image_goal_output.jpg\", result)"
   ]
  },
  {
   "cell_type": "code",
   "execution_count": 2,
   "metadata": {},
   "outputs": [
    {
     "data": {
      "text/plain": [
       "18321"
      ]
     },
     "execution_count": 2,
     "metadata": {},
     "output_type": "execute_result"
    }
   ],
   "source": [
    "num_pixels"
   ]
  },
  {
   "cell_type": "code",
   "execution_count": null,
   "metadata": {},
   "outputs": [],
   "source": []
  }
 ],
 "metadata": {
  "kernelspec": {
   "display_name": "Python 3",
   "language": "python",
   "name": "python3"
  },
  "language_info": {
   "codemirror_mode": {
    "name": "ipython",
    "version": 3
   },
   "file_extension": ".py",
   "mimetype": "text/x-python",
   "name": "python",
   "nbconvert_exporter": "python",
   "pygments_lexer": "ipython3",
   "version": "3.10.14"
  }
 },
 "nbformat": 4,
 "nbformat_minor": 2
}
